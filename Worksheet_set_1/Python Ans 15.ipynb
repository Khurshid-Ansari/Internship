{
 "cells": [
  {
   "cell_type": "code",
   "execution_count": 2,
   "id": "83f62ced",
   "metadata": {},
   "outputs": [
    {
     "name": "stdout",
     "output_type": "stream",
     "text": [
      "Enter the string: Khurshid\n",
      "{'K': 1, 'h': 2, 'u': 1, 'r': 1, 's': 1, 'i': 1, 'd': 1}\n"
     ]
    }
   ],
   "source": [
    "\n",
    "str1 = input (\"Enter the string: \")\n",
    "d = dict()\n",
    "for c in str1:\n",
    "    if c in d:\n",
    "        d[c] = d[c] + 1\n",
    "    else:\n",
    "        d[c] = 1\n",
    "print(d)\n"
   ]
  },
  {
   "cell_type": "code",
   "execution_count": null,
   "id": "6e878b72",
   "metadata": {},
   "outputs": [],
   "source": []
  }
 ],
 "metadata": {
  "kernelspec": {
   "display_name": "Python 3 (ipykernel)",
   "language": "python",
   "name": "python3"
  },
  "language_info": {
   "codemirror_mode": {
    "name": "ipython",
    "version": 3
   },
   "file_extension": ".py",
   "mimetype": "text/x-python",
   "name": "python",
   "nbconvert_exporter": "python",
   "pygments_lexer": "ipython3",
   "version": "3.9.13"
  }
 },
 "nbformat": 4,
 "nbformat_minor": 5
}
